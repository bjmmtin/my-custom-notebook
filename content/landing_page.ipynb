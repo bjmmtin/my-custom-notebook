{
  "metadata": {
    "kernelspec": {
      "name": "python",
      "display_name": "Python (Pyodide)",
      "language": "python"
    },
    "language_info": {
      "codemirror_mode": {
        "name": "python",
        "version": 3
      },
      "file_extension": ".py",
      "mimetype": "text/x-python",
      "name": "python",
      "nbconvert_exporter": "python",
      "pygments_lexer": "ipython3",
      "version": "3.8"
    }
  },
  "nbformat_minor": 4,
  "nbformat": 4,
  "cells": [
    {
      "cell_type": "markdown",
      "source": "![Alt Text](https://bespo.notion.site/image/https%3A%2F%2Fprod-files-secure.s3.us-west-2.amazonaws.com%2F13af5e42-67e6-4934-a137-8a463e7ee47b%2F5aef994a-f230-4298-bd70-4b7c58fc220b%2Fimage.png?table=block&id=15dec4e5-8f15-807b-9600-cf60c49ea1c7&spaceId=13af5e42-67e6-4934-a137-8a463e7ee47b&width=1420&userId=&cache=v22)\n",
      "metadata": {}
    },
    {
      "cell_type": "code",
      "source": "import vincent as v",
      "metadata": {},
      "outputs": [],
      "execution_count": null
    },
    {
      "cell_type": "code",
      "source": "v.what_can_vincent_do()",
      "metadata": {},
      "outputs": [],
      "execution_count": null
    },
    {
      "cell_type": "markdown",
      "source": "## Vincent can operate the notebook to perform multi-step tasks\n![](https://bespo.notion.site/image/https%3A%2F%2Fprod-files-secure.s3.us-west-2.amazonaws.com%2F13af5e42-67e6-4934-a137-8a463e7ee47b%2F4dbf6eb1-7372-4ce6-b15a-20fb9ccf53f8%2Fimage.png?table=block&id=15eec4e5-8f15-8019-beac-cd92ea1c1f4a&spaceId=13af5e42-67e6-4934-a137-8a463e7ee47b&width=1420&userId=&cache=v2)",
      "metadata": {}
    },
    {
      "cell_type": "code",
      "source": "v.use_cases_word_cloud()",
      "metadata": {
        "scrolled": true
      },
      "outputs": [],
      "execution_count": null
    },
    {
      "cell_type": "markdown",
      "source": "![word cloud](https://images.csmonitor.com/csm/2013/06/0621-bestbookswordcloud.jpg?alias=standard_900x600nc)",
      "metadata": {}
    },
    {
      "cell_type": "code",
      "source": "v.download_vincent()",
      "metadata": {},
      "outputs": [],
      "execution_count": null
    },
    {
      "cell_type": "markdown",
      "source": "[download button](https://marketplace.visualstudio.com/items?itemName=BespoAI.vincent&ssr=false#overview)",
      "metadata": {}
    },
    {
      "cell_type": "code",
      "source": "v??",
      "metadata": {},
      "outputs": [],
      "execution_count": null
    },
    {
      "cell_type": "markdown",
      "source": "Available functions:\n- `privacy`: Understand Vincent's privacy and security principles.\n- `manifesto`: Explore the vision, philosophy, and mission behind Vincent.\n- `extendable`: Learn how to customize and extend Vincent for your workflows.\n- `features`: Discover the standout capabilities of Vincent.\n- `love_by`: See how users and developers are leveraging Vincent effectively.\n- `about`: Learn about this notebook landing page",
      "metadata": {}
    },
    {
      "cell_type": "code",
      "source": "v.",
      "metadata": {},
      "outputs": [],
      "execution_count": null
    },
    {
      "cell_type": "markdown",
      "source": "------",
      "metadata": {}
    },
    {
      "cell_type": "markdown",
      "source": "# Extra Cells",
      "metadata": {}
    },
    {
      "cell_type": "code",
      "source": "v.privacy()",
      "metadata": {},
      "outputs": [],
      "execution_count": null
    },
    {
      "cell_type": "markdown",
      "source": "Vincent offers self-hosting with support for your own model provider API key. This ensures that no data ever leaves your secure cloud environment, keeping your workflows private and compliant.",
      "metadata": {}
    },
    {
      "cell_type": "code",
      "source": "v.extendable()",
      "metadata": {},
      "outputs": [],
      "execution_count": null
    },
    {
      "cell_type": "markdown",
      "source": "## Vincent's skills are extendable through natural language, and invokable througha mention @:\n![](https://ci3.googleusercontent.com/meips/ADKq_NanVfiINa6PasL-yTV3pQZ7p31yR-Ev01OUoJkjJaWcMd5kCUguTk5Ol3te7JdPBt29FVR2li-88r-sJ6ut41qiKHLJ2Re6L2a5xo_tsF5TT4LW-6k=s0-d-e1-ft#https://storage.googleapis.com/vincent-media/skills-mention.png)",
      "metadata": {}
    },
    {
      "cell_type": "code",
      "source": "v.manifesto()",
      "metadata": {},
      "outputs": [],
      "execution_count": null
    },
    {
      "cell_type": "markdown",
      "source": "# Discovery and Communication\n\nWe are data scientists, at heart and by trade, so when computers started talking convincingly, our brains began obsessing over how this could make our craft more fun and creative. Developers got amazing AI tools recently, from AI IDEs that speed up writing code, to “AI software engineers” that can (supposedly) complete tasks autonomously.\n\nAnd while these tools are also helpful for data scientist, they don’t address the core of what data science and research **is**.\n\nData science is not about writing code (although necessary), and it’s not about moving tickets from “backlog” to “done”. It’s about discovery and communication.\n\nDiscovery can sound like fluff, but it’s there. At every algorithm improvement and insight from data. These are the workflows we are passionate to enhance. \n\n# Enter the Notebook\n\nWhile the critics are still split on notebooks place in the engineering stack, it is undoubtedly built for the things we think are important. Discovery and understanding happens from experimenting. You need to poke a finger at at some hole and see what comes out the other side. The direct manipulation and rich outputs of notebooks are perfect for that. And they’re also perfect for communicating discoveries to ultimately drive impact.\n\nAppropriately, we aim to discover ways to use this technology for ourselves and fellow researchers, and communicate our findings through products.\n\n# What We’re Thinking\n\nHere are some principles that guide us. At least for now:\n\n### Focus on acts that break flow\n\nCode errors, dependencies issues, and parsing that annoying JSON column into a more palatable DataFrame. Vincent should help with all of that.\n\n### Creativity > Productivity\n\nIt’s not about smashing tickets, it’s about doing your best work.\n\n### Agentic workspace\n\nWe want to do more than autocomplete, but not outsourcing entire projects. We call it an Agentic Workspace (kind of cheesy, but captures the essence). A magical canvas that helps you make things happen.\n\n### Lean on the power of the notebook\n\nJupyter notebooks are extremely powerful, and a native environment for an AI agent to accomplish things. Vincent can learn about a library, search the web, and export code to python files, all through the notebook it self. This also allows everyone to customize and extend Vincent’s capabilities.",
      "metadata": {}
    },
    {
      "cell_type": "code",
      "source": "",
      "metadata": {},
      "outputs": [],
      "execution_count": null
    }
  ]
}